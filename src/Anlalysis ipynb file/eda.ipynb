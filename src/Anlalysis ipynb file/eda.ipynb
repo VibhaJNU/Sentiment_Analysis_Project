{
 "cells": [
  {
   "cell_type": "code",
   "execution_count": 1,
   "id": "d60d8376",
   "metadata": {},
   "outputs": [],
   "source": [
    "#Import librariries\n",
    "\n",
    "import pandas as pd\n",
    "import numpy as np\n",
    "import matplotlib.pyplot as plt\n",
    "import seaborn as sns\n",
    "import os\n",
    "import re\n",
    "import nltk\n",
    "from nltk.corpus import stopwords\n",
    "from nltk.stem import PorterStemmer, WordNetLemmatizer\n",
    "from collections import Counter\n",
    "import pickle\n"
   ]
  },
  {
   "cell_type": "code",
   "execution_count": 43,
   "id": "744d9694",
   "metadata": {},
   "outputs": [
    {
     "data": {
      "text/html": [
       "<div>\n",
       "<style scoped>\n",
       "    .dataframe tbody tr th:only-of-type {\n",
       "        vertical-align: middle;\n",
       "    }\n",
       "\n",
       "    .dataframe tbody tr th {\n",
       "        vertical-align: top;\n",
       "    }\n",
       "\n",
       "    .dataframe thead th {\n",
       "        text-align: right;\n",
       "    }\n",
       "</style>\n",
       "<table border=\"1\" class=\"dataframe\">\n",
       "  <thead>\n",
       "    <tr style=\"text-align: right;\">\n",
       "      <th></th>\n",
       "      <th>review</th>\n",
       "      <th>sentiment</th>\n",
       "    </tr>\n",
       "  </thead>\n",
       "  <tbody>\n",
       "    <tr>\n",
       "      <th>0</th>\n",
       "      <td>One of the other reviewers has mentioned that ...</td>\n",
       "      <td>positive</td>\n",
       "    </tr>\n",
       "    <tr>\n",
       "      <th>1</th>\n",
       "      <td>A wonderful little production. &lt;br /&gt;&lt;br /&gt;The...</td>\n",
       "      <td>positive</td>\n",
       "    </tr>\n",
       "    <tr>\n",
       "      <th>2</th>\n",
       "      <td>I thought this was a wonderful way to spend ti...</td>\n",
       "      <td>positive</td>\n",
       "    </tr>\n",
       "    <tr>\n",
       "      <th>3</th>\n",
       "      <td>Basically there's a family where a little boy ...</td>\n",
       "      <td>negative</td>\n",
       "    </tr>\n",
       "    <tr>\n",
       "      <th>4</th>\n",
       "      <td>Petter Mattei's \"Love in the Time of Money\" is...</td>\n",
       "      <td>positive</td>\n",
       "    </tr>\n",
       "  </tbody>\n",
       "</table>\n",
       "</div>"
      ],
      "text/plain": [
       "                                              review sentiment\n",
       "0  One of the other reviewers has mentioned that ...  positive\n",
       "1  A wonderful little production. <br /><br />The...  positive\n",
       "2  I thought this was a wonderful way to spend ti...  positive\n",
       "3  Basically there's a family where a little boy ...  negative\n",
       "4  Petter Mattei's \"Love in the Time of Money\" is...  positive"
      ]
     },
     "execution_count": 43,
     "metadata": {},
     "output_type": "execute_result"
    }
   ],
   "source": [
    "#Import dataset\n",
    "data = pd.read_csv('C:\\Projects_VScode\\Sentiment Analysis\\static\\IMDB Dataset.csv')\n",
    "data.head()"
   ]
  },
  {
   "cell_type": "code",
   "execution_count": 5,
   "id": "06754310",
   "metadata": {},
   "outputs": [
    {
     "name": "stdout",
     "output_type": "stream",
     "text": [
      "<class 'pandas.core.frame.DataFrame'>\n",
      "RangeIndex: 50000 entries, 0 to 49999\n",
      "Data columns (total 2 columns):\n",
      " #   Column     Non-Null Count  Dtype \n",
      "---  ------     --------------  ----- \n",
      " 0   review     50000 non-null  object\n",
      " 1   sentiment  50000 non-null  object\n",
      "dtypes: object(2)\n",
      "memory usage: 781.4+ KB\n"
     ]
    }
   ],
   "source": [
    "#Information about the dataset\n",
    "data.info()"
   ]
  },
  {
   "cell_type": "code",
   "execution_count": null,
   "id": "a56e8d8d",
   "metadata": {},
   "outputs": [
    {
     "data": {
      "text/plain": [
       "sentiment\n",
       "positive    25000\n",
       "negative    25000\n",
       "Name: count, dtype: int64"
      ]
     },
     "execution_count": 6,
     "metadata": {},
     "output_type": "execute_result"
    }
   ],
   "source": [
    "#Class value counts\n",
    "\n",
    "data['sentiment'].value_counts()"
   ]
  },
  {
   "cell_type": "code",
   "execution_count": null,
   "id": "05438fc6",
   "metadata": {},
   "outputs": [
    {
     "data": {
      "text/html": [
       "<div>\n",
       "<style scoped>\n",
       "    .dataframe tbody tr th:only-of-type {\n",
       "        vertical-align: middle;\n",
       "    }\n",
       "\n",
       "    .dataframe tbody tr th {\n",
       "        vertical-align: top;\n",
       "    }\n",
       "\n",
       "    .dataframe thead th {\n",
       "        text-align: right;\n",
       "    }\n",
       "</style>\n",
       "<table border=\"1\" class=\"dataframe\">\n",
       "  <thead>\n",
       "    <tr style=\"text-align: right;\">\n",
       "      <th></th>\n",
       "      <th>review</th>\n",
       "      <th>sentiment</th>\n",
       "    </tr>\n",
       "  </thead>\n",
       "  <tbody>\n",
       "    <tr>\n",
       "      <th>count</th>\n",
       "      <td>50000</td>\n",
       "      <td>50000</td>\n",
       "    </tr>\n",
       "    <tr>\n",
       "      <th>unique</th>\n",
       "      <td>49582</td>\n",
       "      <td>2</td>\n",
       "    </tr>\n",
       "    <tr>\n",
       "      <th>top</th>\n",
       "      <td>Loved today's show!!! It was a variety and not...</td>\n",
       "      <td>positive</td>\n",
       "    </tr>\n",
       "    <tr>\n",
       "      <th>freq</th>\n",
       "      <td>5</td>\n",
       "      <td>25000</td>\n",
       "    </tr>\n",
       "  </tbody>\n",
       "</table>\n",
       "</div>"
      ],
      "text/plain": [
       "                                                   review sentiment\n",
       "count                                               50000     50000\n",
       "unique                                              49582         2\n",
       "top     Loved today's show!!! It was a variety and not...  positive\n",
       "freq                                                    5     25000"
      ]
     },
     "execution_count": 7,
     "metadata": {},
     "output_type": "execute_result"
    }
   ],
   "source": [
    "#Data describe\n",
    "\n",
    "data.describe()"
   ]
  },
  {
   "cell_type": "code",
   "execution_count": null,
   "id": "4e33c4cb",
   "metadata": {},
   "outputs": [
    {
     "data": {
      "text/plain": [
       "<Axes: >"
      ]
     },
     "execution_count": 28,
     "metadata": {},
     "output_type": "execute_result"
    },
    {
     "data": {
      "image/png": "[encoded data removed]",
      "text/plain": [
       "<Figure size 640x480 with 1 Axes>"
      ]
     },
     "metadata": {},
     "output_type": "display_data"
    }
   ],
   "source": [
    "#text legth histogram\n",
    "\n",
    "data[\"review\"].str.len().hist()"
   ]
  },
  {
   "cell_type": "code",
   "execution_count": null,
   "id": "d125def6",
   "metadata": {},
   "outputs": [
    {
     "data": {
      "text/plain": [
       "Text(0.5, 1.0, 'Negative Reviews Length')"
      ]
     },
     "execution_count": 37,
     "metadata": {},
     "output_type": "execute_result"
    },
    {
     "data": {
      "image/png": "[encoded data removed]",
      "text/plain": [
       "<Figure size 1200x600 with 2 Axes>"
      ]
     },
     "metadata": {},
     "output_type": "display_data"
    }
   ],
   "source": [
    "#Positive and negative sentiments text length\n",
    "\n",
    "fig,(ax1,ax2)=plt.subplots(1,2,figsize=(12,6))\n",
    " \n",
    "ax1.hist(data[data[\"sentiment\"]==\"positive\"][\"review\"].str.len())\n",
    "ax1.set_title(\"Positive Reviews Length\")\n",
    "\n",
    "ax2.hist(data[data[\"sentiment\"]==\"negative\"][\"review\"].str.len())\n",
    "ax2.set_title(\"Negative Reviews Length\")"
   ]
  },
  {
   "cell_type": "markdown",
   "id": "560faa3b",
   "metadata": {},
   "source": [
    "#Text processing and cleaning\n",
    "1. Convert text to lowercase\n",
    "2. Remove punctuation, url links\n",
    "3. Remove stop words\n",
    "4. Remove alphanumeric characters\n",
    "5. Stemming or lemmatization\n",
    "6. Remove frequent words"
   ]
  },
  {
   "cell_type": "code",
   "execution_count": 44,
   "id": "960b90d9",
   "metadata": {},
   "outputs": [],
   "source": [
    "#1.Convert text to lowercase\n",
    "data['review_step1'] = data['review'].str.lower()"
   ]
  },
  {
   "cell_type": "code",
   "execution_count": 45,
   "id": "0a8a02ec",
   "metadata": {},
   "outputs": [],
   "source": [
    "# Remove punchuation\n",
    "data['review_step2'] = data['review_step1'].str.replace('[^\\w\\s]', '', regex=True)\n",
    "\n",
    "# Remove url links\n",
    "data['review_step2'] = data['review_step2'].str.replace(r'http\\S+|www\\S+|https\\S+', '', case=False, regex=True)"
   ]
  },
  {
   "cell_type": "code",
   "execution_count": 47,
   "id": "7d511ce1",
   "metadata": {},
   "outputs": [],
   "source": [
    "# Remove alphanumeric characters\n",
    "data['review_step3'] = data['review_step2'].str.replace('\\d+', '', regex=True)  "
   ]
  },
  {
   "cell_type": "code",
   "execution_count": null,
   "id": "d29aa441",
   "metadata": {},
   "outputs": [],
   "source": [
    "# Remove stop words\n",
    "stop_words = set(stopwords.words('english'))\n",
    "data['review_step4'] = data['review_step3'].apply(lambda x: ' '.join([word for word in x.split() if word not in stop_words]))"
   ]
  },
  {
   "cell_type": "code",
   "execution_count": null,
   "id": "224f0d69",
   "metadata": {},
   "outputs": [],
   "source": [
    "#Stemming or lemmatization\n",
    "stemmer = PorterStemmer()\n",
    "lemmatizer = WordNetLemmatizer()"
   ]
  },
  {
   "cell_type": "code",
   "execution_count": 52,
   "id": "2ff20370",
   "metadata": {},
   "outputs": [],
   "source": [
    "data['review_step5'] = data['review_step4'].apply(lambda x: ' '.join([lemmatizer.lemmatize(word) for word in x.split()]))\n",
    "data['review_step6'] = data['review_step5'].apply(lambda x: ' '.join([stemmer.stem(word) for word in x.split()]))"
   ]
  },
  {
   "cell_type": "code",
   "execution_count": 54,
   "id": "eb9138e4",
   "metadata": {},
   "outputs": [
    {
     "data": {
      "text/plain": [
       "[('br', 114877),\n",
       " ('movi', 98981),\n",
       " ('film', 92079),\n",
       " ('one', 53314),\n",
       " ('like', 43990),\n",
       " ('time', 29804),\n",
       " ('good', 28988),\n",
       " ('make', 28613),\n",
       " ('get', 27749),\n",
       " ('see', 27693),\n",
       " ('charact', 27602),\n",
       " ('watch', 27281),\n",
       " ('even', 25046),\n",
       " ('stori', 24272),\n",
       " ('would', 24024),\n",
       " ('realli', 22952),\n",
       " ('go', 22429),\n",
       " ('scene', 20706),\n",
       " ('show', 19407),\n",
       " ('well', 19310)]"
      ]
     },
     "execution_count": 54,
     "metadata": {},
     "output_type": "execute_result"
    }
   ],
   "source": [
    "#Create a dataset of most frequent words\n",
    "\n",
    "word_counts = Counter(' '.join(data['review_step6']).split())\n",
    "most_common_words = word_counts.most_common(20)\n",
    "most_common_words\n"
   ]
  },
  {
   "cell_type": "code",
   "execution_count": 67,
   "id": "9de6fada",
   "metadata": {},
   "outputs": [],
   "source": [
    "#remove most frequent words from the dataset\n",
    "freq_words = set( word for word, count in most_common_words)\n",
    "\n",
    "#save the most frequent words to a file\n",
    "with open('most_frequent_words.pkl', 'wb') as f:\n",
    "    pickle.dump(freq_words, f)\n",
    "\n",
    "def remove_most_frequent_words(text):\n",
    "    return ' '.join([word for word in text.split() if word not in freq_words])\n",
    "        \n",
    "data['review_step7'] = data['review_step6'].apply(remove_most_frequent_words)"
   ]
  },
  {
   "cell_type": "code",
   "execution_count": 60,
   "id": "b7b09267",
   "metadata": {},
   "outputs": [
    {
     "data": {
      "text/html": [
       "<div>\n",
       "<style scoped>\n",
       "    .dataframe tbody tr th:only-of-type {\n",
       "        vertical-align: middle;\n",
       "    }\n",
       "\n",
       "    .dataframe tbody tr th {\n",
       "        vertical-align: top;\n",
       "    }\n",
       "\n",
       "    .dataframe thead th {\n",
       "        text-align: right;\n",
       "    }\n",
       "</style>\n",
       "<table border=\"1\" class=\"dataframe\">\n",
       "  <thead>\n",
       "    <tr style=\"text-align: right;\">\n",
       "      <th></th>\n",
       "      <th>review</th>\n",
       "      <th>sentiment</th>\n",
       "      <th>review_step1</th>\n",
       "      <th>review_step2</th>\n",
       "      <th>review_step3</th>\n",
       "      <th>review_step4</th>\n",
       "      <th>review_step5</th>\n",
       "      <th>review_step6</th>\n",
       "      <th>review_step7</th>\n",
       "    </tr>\n",
       "  </thead>\n",
       "  <tbody>\n",
       "    <tr>\n",
       "      <th>0</th>\n",
       "      <td>One of the other reviewers has mentioned that ...</td>\n",
       "      <td>positive</td>\n",
       "      <td>one of the other reviewers has mentioned that ...</td>\n",
       "      <td>one of the other reviewers has mentioned that ...</td>\n",
       "      <td>one of the other reviewers has mentioned that ...</td>\n",
       "      <td>one reviewers mentioned watching oz episode yo...</td>\n",
       "      <td>one reviewer mentioned watching oz episode you...</td>\n",
       "      <td>one review mention watch oz episod youll hook ...</td>\n",
       "      <td>review mention oz episod youll hook right exac...</td>\n",
       "    </tr>\n",
       "    <tr>\n",
       "      <th>1</th>\n",
       "      <td>A wonderful little production. &lt;br /&gt;&lt;br /&gt;The...</td>\n",
       "      <td>positive</td>\n",
       "      <td>a wonderful little production. &lt;br /&gt;&lt;br /&gt;the...</td>\n",
       "      <td>a wonderful little production br br the filmin...</td>\n",
       "      <td>a wonderful little production br br the filmin...</td>\n",
       "      <td>wonderful little production br br filming tech...</td>\n",
       "      <td>wonderful little production br br filming tech...</td>\n",
       "      <td>wonder littl product br br film techniqu unass...</td>\n",
       "      <td>wonder littl product techniqu unassum oldtimeb...</td>\n",
       "    </tr>\n",
       "    <tr>\n",
       "      <th>2</th>\n",
       "      <td>I thought this was a wonderful way to spend ti...</td>\n",
       "      <td>positive</td>\n",
       "      <td>i thought this was a wonderful way to spend ti...</td>\n",
       "      <td>i thought this was a wonderful way to spend ti...</td>\n",
       "      <td>i thought this was a wonderful way to spend ti...</td>\n",
       "      <td>thought wonderful way spend time hot summer we...</td>\n",
       "      <td>thought wonderful way spend time hot summer we...</td>\n",
       "      <td>thought wonder way spend time hot summer weeke...</td>\n",
       "      <td>thought wonder way spend hot summer weekend si...</td>\n",
       "    </tr>\n",
       "    <tr>\n",
       "      <th>3</th>\n",
       "      <td>Basically there's a family where a little boy ...</td>\n",
       "      <td>negative</td>\n",
       "      <td>basically there's a family where a little boy ...</td>\n",
       "      <td>basically theres a family where a little boy j...</td>\n",
       "      <td>basically theres a family where a little boy j...</td>\n",
       "      <td>basically theres family little boy jake thinks...</td>\n",
       "      <td>basically there family little boy jake think t...</td>\n",
       "      <td>basic there famili littl boy jake think there ...</td>\n",
       "      <td>basic there famili littl boy jake think there ...</td>\n",
       "    </tr>\n",
       "    <tr>\n",
       "      <th>4</th>\n",
       "      <td>Petter Mattei's \"Love in the Time of Money\" is...</td>\n",
       "      <td>positive</td>\n",
       "      <td>petter mattei's \"love in the time of money\" is...</td>\n",
       "      <td>petter matteis love in the time of money is a ...</td>\n",
       "      <td>petter matteis love in the time of money is a ...</td>\n",
       "      <td>petter matteis love time money visually stunni...</td>\n",
       "      <td>petter matteis love time money visually stunni...</td>\n",
       "      <td>petter mattei love time money visual stun film...</td>\n",
       "      <td>petter mattei love money visual stun mr mattei...</td>\n",
       "    </tr>\n",
       "  </tbody>\n",
       "</table>\n",
       "</div>"
      ],
      "text/plain": [
       "                                              review sentiment  \\\n",
       "0  One of the other reviewers has mentioned that ...  positive   \n",
       "1  A wonderful little production. <br /><br />The...  positive   \n",
       "2  I thought this was a wonderful way to spend ti...  positive   \n",
       "3  Basically there's a family where a little boy ...  negative   \n",
       "4  Petter Mattei's \"Love in the Time of Money\" is...  positive   \n",
       "\n",
       "                                        review_step1  \\\n",
       "0  one of the other reviewers has mentioned that ...   \n",
       "1  a wonderful little production. <br /><br />the...   \n",
       "2  i thought this was a wonderful way to spend ti...   \n",
       "3  basically there's a family where a little boy ...   \n",
       "4  petter mattei's \"love in the time of money\" is...   \n",
       "\n",
       "                                        review_step2  \\\n",
       "0  one of the other reviewers has mentioned that ...   \n",
       "1  a wonderful little production br br the filmin...   \n",
       "2  i thought this was a wonderful way to spend ti...   \n",
       "3  basically theres a family where a little boy j...   \n",
       "4  petter matteis love in the time of money is a ...   \n",
       "\n",
       "                                        review_step3  \\\n",
       "0  one of the other reviewers has mentioned that ...   \n",
       "1  a wonderful little production br br the filmin...   \n",
       "2  i thought this was a wonderful way to spend ti...   \n",
       "3  basically theres a family where a little boy j...   \n",
       "4  petter matteis love in the time of money is a ...   \n",
       "\n",
       "                                        review_step4  \\\n",
       "0  one reviewers mentioned watching oz episode yo...   \n",
       "1  wonderful little production br br filming tech...   \n",
       "2  thought wonderful way spend time hot summer we...   \n",
       "3  basically theres family little boy jake thinks...   \n",
       "4  petter matteis love time money visually stunni...   \n",
       "\n",
       "                                        review_step5  \\\n",
       "0  one reviewer mentioned watching oz episode you...   \n",
       "1  wonderful little production br br filming tech...   \n",
       "2  thought wonderful way spend time hot summer we...   \n",
       "3  basically there family little boy jake think t...   \n",
       "4  petter matteis love time money visually stunni...   \n",
       "\n",
       "                                        review_step6  \\\n",
       "0  one review mention watch oz episod youll hook ...   \n",
       "1  wonder littl product br br film techniqu unass...   \n",
       "2  thought wonder way spend time hot summer weeke...   \n",
       "3  basic there famili littl boy jake think there ...   \n",
       "4  petter mattei love time money visual stun film...   \n",
       "\n",
       "                                        review_step7  \n",
       "0  review mention oz episod youll hook right exac...  \n",
       "1  wonder littl product techniqu unassum oldtimeb...  \n",
       "2  thought wonder way spend hot summer weekend si...  \n",
       "3  basic there famili littl boy jake think there ...  \n",
       "4  petter mattei love money visual stun mr mattei...  "
      ]
     },
     "execution_count": 60,
     "metadata": {},
     "output_type": "execute_result"
    }
   ],
   "source": [
    "data.head()"
   ]
  },
  {
   "cell_type": "code",
   "execution_count": 63,
   "id": "6d4c8ac1",
   "metadata": {},
   "outputs": [],
   "source": [
    "# Defined function to pre process of the dataset\n",
    "\n",
    "def preprocess_text(text):  \n",
    "    \n",
    "    text = text.lower()  # Convert to lowercase\n",
    "    text = re.sub(r'[^\\w\\s]', '', text)  # Remove punctuation\n",
    "    text = re.sub(r'http\\S+|www\\S+|https\\S+', '', text, flags=re.MULTILINE)  # Remove URLs\n",
    "    text = re.sub(r'\\d+', '', text)  # Remove numbers\n",
    "    stop_words = set(stopwords.words('english'))  # Get English stop words\n",
    "    text = ' '.join([word for word in text.split() if word not in stop_words])  # Remove stop words\n",
    "    stemmer = PorterStemmer()  # Initialize stemmer\n",
    "    text = ' '.join([stemmer.stem(word) for word in text.split()])  # Apply stemming    \n",
    "    lemmatizer = WordNetLemmatizer()  # Initialize lemmatizer\n",
    "    text = ' '.join([lemmatizer.lemmatize(word) for word in text.split()])  # Apply lemmatization\n",
    " \n",
    "    return text"
   ]
  },
  {
   "cell_type": "code",
   "execution_count": null,
   "id": "8dba16f3",
   "metadata": {},
   "outputs": [
    {
     "name": "stderr",
     "output_type": "stream",
     "text": [
      "C:\\Users\\vibha\\AppData\\Local\\Temp\\ipykernel_17992\\3529908218.py:4: SettingWithCopyWarning: \n",
      "A value is trying to be set on a copy of a slice from a DataFrame\n",
      "\n",
      "See the caveats in the documentation: https://pandas.pydata.org/pandas-docs/stable/user_guide/indexing.html#returning-a-view-versus-a-copy\n",
      "  data_cleaned.rename(columns={'review_step7': 'review'}, inplace=True)\n"
     ]
    }
   ],
   "source": [
    "#cleaned data set and save for vectorization and training\n",
    "\n",
    "data_cleaned = data[['review_step7', 'sentiment']]\n",
    "data_cleaned.rename(columns={'review_step7': 'review'}, inplace=True)\n",
    "\n",
    "data_cleaned.to_csv('C:\\Projects_VScode\\Sentiment Analysis\\static\\IMDB Dataset Cleaned.csv', index=False)"
   ]
  },
  {
   "cell_type": "code",
   "execution_count": 72,
   "id": "1b5c04ae",
   "metadata": {},
   "outputs": [
    {
     "name": "stdout",
     "output_type": "stream",
     "text": [
      "{\"review\":\"Movie was good enough to entertain us\",\"prediction\":\"Negative\"}\n"
     ]
    }
   ],
   "source": [
    "import requests\n",
    "import json\n",
    "\n",
    "url = \"http://127.0.0.1:8000/predict\"\n",
    "\n",
    "payload = json.dumps({\n",
    "  \"user_review\": \"Movie was good enough to entertain us\"\n",
    "})\n",
    "headers = {\n",
    "  'Content-Type': 'application/json'\n",
    "}\n",
    "\n",
    "response = requests.request(\"POST\", url, headers=headers, data=payload)\n",
    "\n",
    "print(response.text)\n"
   ]
  }
 ],
 "metadata": {
  "kernelspec": {
   "display_name": ".venv",
   "language": "python",
   "name": "python3"
  },
  "language_info": {
   "codemirror_mode": {
    "name": "ipython",
    "version": 3
   },
   "file_extension": ".py",
   "mimetype": "text/x-python",
   "name": "python",
   "nbconvert_exporter": "python",
   "pygments_lexer": "ipython3",
   "version": "3.11.5"
  }
 },
 "nbformat": 4,
 "nbformat_minor": 5
}
