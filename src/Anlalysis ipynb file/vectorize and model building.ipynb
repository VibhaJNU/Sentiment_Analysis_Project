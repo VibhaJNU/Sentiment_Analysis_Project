{
 "cells": [
  {
   "cell_type": "code",
   "execution_count": 43,
   "id": "31921a84",
   "metadata": {},
   "outputs": [],
   "source": [
    "import numpy as np\n",
    "import pandas as pd\n",
    "import matplotlib.pyplot as plt\n",
    "import seaborn as sns\n",
    "\n",
    "from sklearn.feature_extraction.text import CountVectorizer\n",
    "from sklearn.model_selection import train_test_split\n",
    "from sklearn.naive_bayes import MultinomialNB\n",
    "from sklearn.metrics import accuracy_score, classification_report, confusion_matrix\n",
    "from collections import Counter\n",
    "import joblib\n"
   ]
  },
  {
   "cell_type": "code",
   "execution_count": null,
   "id": "ddc0e8bc",
   "metadata": {},
   "outputs": [],
   "source": [
    "#load cleaned and preprocessed data\n",
    "\n",
    "data = pd.read_csv('C:/Projects_VScode/Sentiment Analysis/static/IMDB Dataset Cleaned.csv')"
   ]
  },
  {
   "cell_type": "code",
   "execution_count": null,
   "id": "3f3e57b8",
   "metadata": {},
   "outputs": [
    {
     "data": {
      "text/html": [
       "<div>\n",
       "<style scoped>\n",
       "    .dataframe tbody tr th:only-of-type {\n",
       "        vertical-align: middle;\n",
       "    }\n",
       "\n",
       "    .dataframe tbody tr th {\n",
       "        vertical-align: top;\n",
       "    }\n",
       "\n",
       "    .dataframe thead th {\n",
       "        text-align: right;\n",
       "    }\n",
       "</style>\n",
       "<table border=\"1\" class=\"dataframe\">\n",
       "  <thead>\n",
       "    <tr style=\"text-align: right;\">\n",
       "      <th></th>\n",
       "      <th>review</th>\n",
       "      <th>sentiment</th>\n",
       "      <th>outcome</th>\n",
       "    </tr>\n",
       "  </thead>\n",
       "  <tbody>\n",
       "    <tr>\n",
       "      <th>0</th>\n",
       "      <td>review mention oz episod youll hook right exac...</td>\n",
       "      <td>positive</td>\n",
       "      <td>1</td>\n",
       "    </tr>\n",
       "    <tr>\n",
       "      <th>1</th>\n",
       "      <td>wonder littl product techniqu unassum oldtimeb...</td>\n",
       "      <td>positive</td>\n",
       "      <td>1</td>\n",
       "    </tr>\n",
       "    <tr>\n",
       "      <th>2</th>\n",
       "      <td>thought wonder way spend hot summer weekend si...</td>\n",
       "      <td>positive</td>\n",
       "      <td>1</td>\n",
       "    </tr>\n",
       "    <tr>\n",
       "      <th>3</th>\n",
       "      <td>basic there famili littl boy jake think there ...</td>\n",
       "      <td>negative</td>\n",
       "      <td>0</td>\n",
       "    </tr>\n",
       "    <tr>\n",
       "      <th>4</th>\n",
       "      <td>petter mattei love money visual stun mr mattei...</td>\n",
       "      <td>positive</td>\n",
       "      <td>1</td>\n",
       "    </tr>\n",
       "  </tbody>\n",
       "</table>\n",
       "</div>"
      ],
      "text/plain": [
       "                                              review sentiment  outcome\n",
       "0  review mention oz episod youll hook right exac...  positive        1\n",
       "1  wonder littl product techniqu unassum oldtimeb...  positive        1\n",
       "2  thought wonder way spend hot summer weekend si...  positive        1\n",
       "3  basic there famili littl boy jake think there ...  negative        0\n",
       "4  petter mattei love money visual stun mr mattei...  positive        1"
      ]
     },
     "execution_count": 23,
     "metadata": {},
     "output_type": "execute_result"
    }
   ],
   "source": [
    "#Added outcome col where marked 1 for positive and 0 for negative\n",
    "\n",
    "data[\"outcome\"] = data['sentiment'].apply(lambda x: 1 if x==\"positive\" else 0)\n",
    "data.head()"
   ]
  },
  {
   "cell_type": "markdown",
   "id": "05941c9e",
   "metadata": {},
   "source": [
    "#Featurization, multiple approaches can be used:\n",
    "1. Bag of words"
   ]
  },
  {
   "cell_type": "code",
   "execution_count": null,
   "id": "8772dbfc",
   "metadata": {},
   "outputs": [
    {
     "data": {
      "text/plain": [
       "['vectorizer.pkl']"
      ]
     },
     "execution_count": 45,
     "metadata": {},
     "output_type": "execute_result"
    }
   ],
   "source": [
    "#Bag of words\n",
    "vectorizer = CountVectorizer()\n",
    "Vectorize_dataset = vectorizer.fit_transform(data['review'])\n",
    "Vectorize_dataset.get_shape()\n",
    "\n",
    "\n",
    "#Save vectorize_dataset \n",
    "joblib.dump(vectorizer, 'vectorizer.pkl')"
   ]
  },
  {
   "cell_type": "code",
   "execution_count": null,
   "id": "0a728d49",
   "metadata": {},
   "outputs": [],
   "source": [
    "#Defined function to vectorize the text data\n",
    "\n",
    "def vectorize_text(text):\n",
    "    return vectorizer.transform([text])"
   ]
  },
  {
   "cell_type": "markdown",
   "id": "a2d3f4e4",
   "metadata": {},
   "source": [
    "Train test split"
   ]
  },
  {
   "cell_type": "code",
   "execution_count": null,
   "id": "7b512c87",
   "metadata": {},
   "outputs": [],
   "source": [
    "#train test split\n",
    "\n",
    "x_train, x_test, y_train, y_test = train_test_split(X, data['outcome'], test_size=0.2, random_state=42)"
   ]
  },
  {
   "cell_type": "code",
   "execution_count": null,
   "id": "7c080355",
   "metadata": {},
   "outputs": [
    {
     "name": "stdout",
     "output_type": "stream",
     "text": [
      "Accuracy: 0.8604\n",
      "Classification Report:\n",
      "               precision    recall  f1-score   support\n",
      "\n",
      "           0       0.85      0.87      0.86      4961\n",
      "           1       0.87      0.85      0.86      5039\n",
      "\n",
      "    accuracy                           0.86     10000\n",
      "   macro avg       0.86      0.86      0.86     10000\n",
      "weighted avg       0.86      0.86      0.86     10000\n",
      "\n"
     ]
    },
    {
     "data": {
      "image/png": "[encoded data removed]",
      "text/plain": [
       "<Figure size 1000x700 with 2 Axes>"
      ]
     },
     "metadata": {},
     "output_type": "display_data"
    }
   ],
   "source": [
    "#building Model Naive bias model\n",
    "\n",
    "model = MultinomialNB() \n",
    "model.fit(x_train, y_train)\n",
    "\n",
    "# Predicting on test data\n",
    "y_pred = model.predict(x_test)\n",
    "\n",
    "# Evaluating the model\n",
    "print(\"Accuracy:\", accuracy_score(y_test, y_pred))\n",
    "print(\"Classification Report:\\n\", classification_report(y_test, y_pred))\n",
    "\n",
    "\n",
    "# Visualizing the confusion matrix\n",
    "plt.figure(figsize=(10, 7))\n",
    "sns.heatmap(confusion_matrix(y_test, y_pred), annot=True, fmt='d', cmap='Blues', xticklabels=['Negative', 'Positive'], yticklabels=['Negative', 'Positive'])\n",
    "plt.title('Confusion Matrix')\n",
    "plt.xlabel('Predicted')\n",
    "plt.ylabel('Actual')\n",
    "plt.show()"
   ]
  },
  {
   "cell_type": "code",
   "execution_count": null,
   "id": "490508ad",
   "metadata": {},
   "outputs": [
    {
     "data": {
      "text/plain": [
       "['naive_bayes_model.pkl']"
      ]
     },
     "execution_count": 44,
     "metadata": {},
     "output_type": "execute_result"
    }
   ],
   "source": [
    "#Saved model for future prediction\n",
    "\n",
    "joblib.dump(model, \"naive_bayes_model.pkl\")"
   ]
  },
  {
   "cell_type": "code",
   "execution_count": 40,
   "id": "24a5e2e7",
   "metadata": {},
   "outputs": [
    {
     "data": {
      "text/plain": [
       "[('bad', 14192),\n",
       " ('dont', 10268),\n",
       " ('act', 10189),\n",
       " ('much', 9914),\n",
       " ('peopl', 9381),\n",
       " ('end', 9327),\n",
       " ('thing', 9244),\n",
       " ('could', 9038),\n",
       " ('think', 8957),\n",
       " ('made', 8395),\n",
       " ('plot', 8238),\n",
       " ('say', 8214),\n",
       " ('first', 8194),\n",
       " ('way', 8013),\n",
       " ('seem', 7987),\n",
       " ('well', 7845),\n",
       " ('know', 7761),\n",
       " ('tri', 7543),\n",
       " ('want', 7172),\n",
       " ('play', 7150)]"
      ]
     },
     "execution_count": 40,
     "metadata": {},
     "output_type": "execute_result"
    }
   ],
   "source": [
    "# Word count of the reviews whose sentiment negative\n",
    "negative_reviews = data[data['outcome'] == 0]['review']\n",
    "word_counts = Counter(' '.join(negative_reviews).split())\n",
    "most_common_words = word_counts.most_common(20)\n",
    "most_common_words"
   ]
  },
  {
   "cell_type": "code",
   "execution_count": 41,
   "id": "655ba09b",
   "metadata": {},
   "outputs": [
    {
     "data": {
      "text/plain": [
       "[('great', 12885),\n",
       " ('love', 12095),\n",
       " ('well', 11465),\n",
       " ('also', 10704),\n",
       " ('play', 9849),\n",
       " ('life', 9136),\n",
       " ('much', 9032),\n",
       " ('first', 8966),\n",
       " ('end', 8828),\n",
       " ('peopl', 8671),\n",
       " ('way', 8516),\n",
       " ('think', 8385),\n",
       " ('best', 8336),\n",
       " ('mani', 7619),\n",
       " ('year', 7335),\n",
       " ('work', 7255),\n",
       " ('know', 7122),\n",
       " ('made', 7022),\n",
       " ('two', 6930),\n",
       " ('thing', 6871)]"
      ]
     },
     "execution_count": 41,
     "metadata": {},
     "output_type": "execute_result"
    }
   ],
   "source": [
    "positive_reviews = data[data['outcome'] == 1]['review']\n",
    "positive_word_counts = Counter(' '.join(positive_reviews).split())\n",
    "positive_most_common_words = positive_word_counts.most_common(20)   \n",
    "positive_most_common_words"
   ]
  }
 ],
 "metadata": {
  "kernelspec": {
   "display_name": ".venv",
   "language": "python",
   "name": "python3"
  },
  "language_info": {
   "codemirror_mode": {
    "name": "ipython",
    "version": 3
   },
   "file_extension": ".py",
   "mimetype": "text/x-python",
   "name": "python",
   "nbconvert_exporter": "python",
   "pygments_lexer": "ipython3",
   "version": "3.11.5"
  }
 },
 "nbformat": 4,
 "nbformat_minor": 5
}
